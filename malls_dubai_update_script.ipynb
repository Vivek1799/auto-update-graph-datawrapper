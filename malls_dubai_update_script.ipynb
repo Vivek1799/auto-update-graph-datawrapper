{
 "cells": [
  {
   "cell_type": "code",
   "execution_count": null,
   "metadata": {},
   "outputs": [],
   "source": [
    "# Data update scrpit for malls of Dubai\n",
    "\n"
   ]
  }
 ],
 "metadata": {
  "kernelspec": {
   "display_name": "Python 3.11.0rc2 64-bit ('3.11.0rc2')",
   "language": "python",
   "name": "python3"
  },
  "language_info": {
   "name": "python",
   "version": "3.11.0"
  },
  "orig_nbformat": 4,
  "vscode": {
   "interpreter": {
    "hash": "854308f89581e90e24f66ab55470fdc716cc2de675cadd5a1b921037d9edf3fa"
   }
  }
 },
 "nbformat": 4,
 "nbformat_minor": 2
}
